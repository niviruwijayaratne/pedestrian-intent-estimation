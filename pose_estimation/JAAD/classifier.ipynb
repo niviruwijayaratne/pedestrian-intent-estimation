{
 "cells": [
  {
   "cell_type": "code",
   "execution_count": 1,
   "metadata": {},
   "outputs": [],
   "source": [
    "import pandas as pd\n",
    "import numpy as np"
   ]
  },
  {
   "cell_type": "code",
   "execution_count": 2,
   "metadata": {},
   "outputs": [],
   "source": [
    "xnames = []\n",
    "ynames = []\n",
    "angle_names = []\n",
    "for i in range(1, 10):\n",
    "    for j in range(i + 1, 10):\n",
    "        xnames.append(\"xd\" + str(i) + str(j))\n",
    "        ynames.append(\"yd\" + str(i) + str(j))\n",
    "        angle_names.append(\"phi1\" + str(i) + str(j))\n",
    "        angle_names.append(\"phi2\" + str(i) + str(j))\n",
    "        \n",
    "triangle_names = []\n",
    "for i in range(1, 10):\n",
    "    for j in range(1, 10):\n",
    "        if j == i:\n",
    "            continue\n",
    "        for k in range(j + 1, 10):\n",
    "            if k == i:\n",
    "                continue\n",
    "            triangle_names.append(\"theta\" + str(i) + str(j) + str(k))"
   ]
  },
  {
   "cell_type": "code",
   "execution_count": 3,
   "metadata": {},
   "outputs": [],
   "source": [
    "colnames = []\n",
    "colnames.extend(xnames)\n",
    "colnames.extend(ynames)\n",
    "colnames.extend(angle_names)\n",
    "colnames.extend(triangle_names)"
   ]
  },
  {
   "cell_type": "code",
   "execution_count": 4,
   "metadata": {},
   "outputs": [],
   "source": [
    "names = []\n",
    "for i in range(1, 15):\n",
    "    names.extend(colnames)\n",
    "names.append(\"label\")"
   ]
  },
  {
   "cell_type": "code",
   "execution_count": 5,
   "metadata": {},
   "outputs": [],
   "source": [
    "for i in range(1, 15):\n",
    "    for j in range(396*(i-1), 396*i):\n",
    "        names[j] += \"_frame\" + str(i)"
   ]
  },
  {
   "cell_type": "code",
   "execution_count": 6,
   "metadata": {},
   "outputs": [
    {
     "name": "stdout",
     "output_type": "stream",
     "text": [
      "2761 1798 1211\n"
     ]
    }
   ],
   "source": [
    "df1 = pd.read_csv(\"pose_features_train/train_features.csv\", index_col=0, header=0, names=names) \n",
    "df2 = pd.read_csv(\"pose_features_train/train_features2.csv\", index_col=0, header=0, names=names)\n",
    "df3 = pd.read_csv(\"pose_features_train/train_features3.csv\", index_col=0, header=0, names=names)\n",
    "print(len(df1), len(df2), len(df3))"
   ]
  },
  {
   "cell_type": "code",
   "execution_count": 7,
   "metadata": {},
   "outputs": [
    {
     "data": {
      "text/plain": [
       "5770"
      ]
     },
     "execution_count": 7,
     "metadata": {},
     "output_type": "execute_result"
    }
   ],
   "source": [
    "total_df = [df1, df2, df3]\n",
    "df = pd.concat(total_df)\n",
    "len(df)"
   ]
  },
  {
   "cell_type": "code",
   "execution_count": 8,
   "metadata": {
    "scrolled": false
   },
   "outputs": [
    {
     "data": {
      "text/plain": [
       "5766"
      ]
     },
     "execution_count": 8,
     "metadata": {},
     "output_type": "execute_result"
    }
   ],
   "source": [
    "df = df.drop_duplicates()\n",
    "len(df)"
   ]
  },
  {
   "cell_type": "code",
   "execution_count": 9,
   "metadata": {},
   "outputs": [
    {
     "name": "stdout",
     "output_type": "stream",
     "text": [
      "No Null Values: True\n",
      "No Inf Values: True\n"
     ]
    }
   ],
   "source": [
    "print(\"No Null Values:\", not len(pd.isnull(df).any().values.nonzero()) == 0)\n",
    "print(\"No Inf Values:\", len(np.argwhere(np.isfinite(df.values) == 0)) == 0)"
   ]
  },
  {
   "cell_type": "code",
   "execution_count": 10,
   "metadata": {},
   "outputs": [],
   "source": [
    "X = df.iloc[:, :-1].values\n",
    "Y = df.iloc[:, -1].values"
   ]
  },
  {
   "cell_type": "code",
   "execution_count": 11,
   "metadata": {},
   "outputs": [],
   "source": [
    "from sklearn.model_selection import train_test_split\n",
    "X_train, X_test, y_train, y_test = train_test_split(X, Y, test_size=0.2, random_state=0)"
   ]
  },
  {
   "cell_type": "code",
   "execution_count": 12,
   "metadata": {},
   "outputs": [
    {
     "data": {
      "text/plain": [
       "RandomForestClassifier(bootstrap=True, ccp_alpha=0.0, class_weight=None,\n",
       "                       criterion='gini', max_depth=15, max_features='auto',\n",
       "                       max_leaf_nodes=None, max_samples=None,\n",
       "                       min_impurity_decrease=0.0, min_impurity_split=None,\n",
       "                       min_samples_leaf=1, min_samples_split=2,\n",
       "                       min_weight_fraction_leaf=0.0, n_estimators=400,\n",
       "                       n_jobs=None, oob_score=False, random_state=0, verbose=0,\n",
       "                       warm_start=False)"
      ]
     },
     "execution_count": 12,
     "metadata": {},
     "output_type": "execute_result"
    }
   ],
   "source": [
    "from sklearn.ensemble import RandomForestClassifier\n",
    "classifier = RandomForestClassifier(n_estimators=400, random_state=0, max_depth = 15)\n",
    "classifier.fit(X_train, y_train)"
   ]
  },
  {
   "cell_type": "code",
   "execution_count": 38,
   "metadata": {},
   "outputs": [],
   "source": [
    "# test_df = pd.read_csv(\"pose_features_test/test_features.csv\", index_col=0, header=None)\n",
    "# test_arr = test_df.iloc[:, :-1].values"
   ]
  },
  {
   "cell_type": "code",
   "execution_count": 13,
   "metadata": {},
   "outputs": [],
   "source": [
    "y_pred = classifier.predict(X_test)"
   ]
  },
  {
   "cell_type": "code",
   "execution_count": 14,
   "metadata": {},
   "outputs": [
    {
     "name": "stdout",
     "output_type": "stream",
     "text": [
      "[[471  43]\n",
      " [  8 632]]\n",
      "              precision    recall  f1-score   support\n",
      "\n",
      "         0.0       0.98      0.92      0.95       514\n",
      "         1.0       0.94      0.99      0.96       640\n",
      "\n",
      "    accuracy                           0.96      1154\n",
      "   macro avg       0.96      0.95      0.95      1154\n",
      "weighted avg       0.96      0.96      0.96      1154\n",
      "\n",
      "0.9558058925476604\n"
     ]
    }
   ],
   "source": [
    "from sklearn.metrics import classification_report, confusion_matrix, accuracy_score\n",
    "\n",
    "print(confusion_matrix(y_test,y_pred))\n",
    "print(classification_report(y_test,y_pred))\n",
    "print(accuracy_score(y_test, y_pred))"
   ]
  },
  {
   "cell_type": "code",
   "execution_count": 16,
   "metadata": {},
   "outputs": [],
   "source": [
    "import pickle\n",
    "filename = \"./classifier.pkl\"\n",
    "with open(filename, 'wb') as file:\n",
    "    pickle.dump(classifier, file)\n",
    "# pickle.dump(model, open(filename, 'wb'))"
   ]
  },
  {
   "cell_type": "code",
   "execution_count": null,
   "metadata": {},
   "outputs": [],
   "source": []
  }
 ],
 "metadata": {
  "kernelspec": {
   "display_name": "Python [conda env:pytorch_p36]",
   "language": "python",
   "name": "conda-env-pytorch_p36-py"
  },
  "language_info": {
   "codemirror_mode": {
    "name": "ipython",
    "version": 3
   },
   "file_extension": ".py",
   "mimetype": "text/x-python",
   "name": "python",
   "nbconvert_exporter": "python",
   "pygments_lexer": "ipython3",
   "version": "3.6.10"
  }
 },
 "nbformat": 4,
 "nbformat_minor": 4
}
